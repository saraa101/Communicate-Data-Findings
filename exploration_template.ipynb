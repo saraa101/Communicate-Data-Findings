{
 "cells": [
  {
   "cell_type": "markdown",
   "metadata": {},
   "source": [
    "# Ford GoBike System Data Exploration \n",
    "\n",
    "## by Sarah Alamri\n",
    "\n",
    "## Preliminary Wrangling\n",
    "\n",
    "> This data set includes information about individual rides made\n",
    "in a bike-sharing system covering the greater San Francisco\n",
    "Bay area."
   ]
  },
  {
   "cell_type": "code",
   "execution_count": 2,
   "metadata": {},
   "outputs": [],
   "source": [
    "# import all packages and set plots to be embedded inline\n",
    "import numpy as np\n",
    "import pandas as pd\n",
    "import matplotlib.pyplot as plt\n",
    "import seaborn as sb\n",
    "\n",
    "%matplotlib inline"
   ]
  },
  {
   "cell_type": "markdown",
   "metadata": {},
   "source": [
    "> Load in your dataset and describe its properties through the questions below.\n",
    "Try and motivate your exploration goals through this section."
   ]
  },
  {
   "cell_type": "markdown",
   "metadata": {},
   "source": [
    "### Gather"
   ]
  },
  {
   "cell_type": "code",
   "execution_count": 3,
   "metadata": {},
   "outputs": [],
   "source": [
    "df = pd.read_csv('201902-fordgobike-tripdata.csv')"
   ]
  },
  {
   "cell_type": "code",
   "execution_count": 4,
   "metadata": {},
   "outputs": [
    {
     "data": {
      "text/html": [
       "<div>\n",
       "<style scoped>\n",
       "    .dataframe tbody tr th:only-of-type {\n",
       "        vertical-align: middle;\n",
       "    }\n",
       "\n",
       "    .dataframe tbody tr th {\n",
       "        vertical-align: top;\n",
       "    }\n",
       "\n",
       "    .dataframe thead th {\n",
       "        text-align: right;\n",
       "    }\n",
       "</style>\n",
       "<table border=\"1\" class=\"dataframe\">\n",
       "  <thead>\n",
       "    <tr style=\"text-align: right;\">\n",
       "      <th></th>\n",
       "      <th>duration_sec</th>\n",
       "      <th>start_time</th>\n",
       "      <th>end_time</th>\n",
       "      <th>start_station_id</th>\n",
       "      <th>start_station_name</th>\n",
       "      <th>start_station_latitude</th>\n",
       "      <th>start_station_longitude</th>\n",
       "      <th>end_station_id</th>\n",
       "      <th>end_station_name</th>\n",
       "      <th>end_station_latitude</th>\n",
       "      <th>end_station_longitude</th>\n",
       "      <th>bike_id</th>\n",
       "      <th>user_type</th>\n",
       "      <th>member_birth_year</th>\n",
       "      <th>member_gender</th>\n",
       "      <th>bike_share_for_all_trip</th>\n",
       "    </tr>\n",
       "  </thead>\n",
       "  <tbody>\n",
       "    <tr>\n",
       "      <th>0</th>\n",
       "      <td>52185</td>\n",
       "      <td>2019-02-28 17:32:10.1450</td>\n",
       "      <td>2019-03-01 08:01:55.9750</td>\n",
       "      <td>21.0</td>\n",
       "      <td>Montgomery St BART Station (Market St at 2nd St)</td>\n",
       "      <td>37.789625</td>\n",
       "      <td>-122.400811</td>\n",
       "      <td>13.0</td>\n",
       "      <td>Commercial St at Montgomery St</td>\n",
       "      <td>37.794231</td>\n",
       "      <td>-122.402923</td>\n",
       "      <td>4902</td>\n",
       "      <td>Customer</td>\n",
       "      <td>1984.0</td>\n",
       "      <td>Male</td>\n",
       "      <td>No</td>\n",
       "    </tr>\n",
       "    <tr>\n",
       "      <th>1</th>\n",
       "      <td>42521</td>\n",
       "      <td>2019-02-28 18:53:21.7890</td>\n",
       "      <td>2019-03-01 06:42:03.0560</td>\n",
       "      <td>23.0</td>\n",
       "      <td>The Embarcadero at Steuart St</td>\n",
       "      <td>37.791464</td>\n",
       "      <td>-122.391034</td>\n",
       "      <td>81.0</td>\n",
       "      <td>Berry St at 4th St</td>\n",
       "      <td>37.775880</td>\n",
       "      <td>-122.393170</td>\n",
       "      <td>2535</td>\n",
       "      <td>Customer</td>\n",
       "      <td>NaN</td>\n",
       "      <td>NaN</td>\n",
       "      <td>No</td>\n",
       "    </tr>\n",
       "    <tr>\n",
       "      <th>2</th>\n",
       "      <td>61854</td>\n",
       "      <td>2019-02-28 12:13:13.2180</td>\n",
       "      <td>2019-03-01 05:24:08.1460</td>\n",
       "      <td>86.0</td>\n",
       "      <td>Market St at Dolores St</td>\n",
       "      <td>37.769305</td>\n",
       "      <td>-122.426826</td>\n",
       "      <td>3.0</td>\n",
       "      <td>Powell St BART Station (Market St at 4th St)</td>\n",
       "      <td>37.786375</td>\n",
       "      <td>-122.404904</td>\n",
       "      <td>5905</td>\n",
       "      <td>Customer</td>\n",
       "      <td>1972.0</td>\n",
       "      <td>Male</td>\n",
       "      <td>No</td>\n",
       "    </tr>\n",
       "    <tr>\n",
       "      <th>3</th>\n",
       "      <td>36490</td>\n",
       "      <td>2019-02-28 17:54:26.0100</td>\n",
       "      <td>2019-03-01 04:02:36.8420</td>\n",
       "      <td>375.0</td>\n",
       "      <td>Grove St at Masonic Ave</td>\n",
       "      <td>37.774836</td>\n",
       "      <td>-122.446546</td>\n",
       "      <td>70.0</td>\n",
       "      <td>Central Ave at Fell St</td>\n",
       "      <td>37.773311</td>\n",
       "      <td>-122.444293</td>\n",
       "      <td>6638</td>\n",
       "      <td>Subscriber</td>\n",
       "      <td>1989.0</td>\n",
       "      <td>Other</td>\n",
       "      <td>No</td>\n",
       "    </tr>\n",
       "    <tr>\n",
       "      <th>4</th>\n",
       "      <td>1585</td>\n",
       "      <td>2019-02-28 23:54:18.5490</td>\n",
       "      <td>2019-03-01 00:20:44.0740</td>\n",
       "      <td>7.0</td>\n",
       "      <td>Frank H Ogawa Plaza</td>\n",
       "      <td>37.804562</td>\n",
       "      <td>-122.271738</td>\n",
       "      <td>222.0</td>\n",
       "      <td>10th Ave at E 15th St</td>\n",
       "      <td>37.792714</td>\n",
       "      <td>-122.248780</td>\n",
       "      <td>4898</td>\n",
       "      <td>Subscriber</td>\n",
       "      <td>1974.0</td>\n",
       "      <td>Male</td>\n",
       "      <td>Yes</td>\n",
       "    </tr>\n",
       "  </tbody>\n",
       "</table>\n",
       "</div>"
      ],
      "text/plain": [
       "   duration_sec                start_time                  end_time  \\\n",
       "0         52185  2019-02-28 17:32:10.1450  2019-03-01 08:01:55.9750   \n",
       "1         42521  2019-02-28 18:53:21.7890  2019-03-01 06:42:03.0560   \n",
       "2         61854  2019-02-28 12:13:13.2180  2019-03-01 05:24:08.1460   \n",
       "3         36490  2019-02-28 17:54:26.0100  2019-03-01 04:02:36.8420   \n",
       "4          1585  2019-02-28 23:54:18.5490  2019-03-01 00:20:44.0740   \n",
       "\n",
       "   start_station_id                                start_station_name  \\\n",
       "0              21.0  Montgomery St BART Station (Market St at 2nd St)   \n",
       "1              23.0                     The Embarcadero at Steuart St   \n",
       "2              86.0                           Market St at Dolores St   \n",
       "3             375.0                           Grove St at Masonic Ave   \n",
       "4               7.0                               Frank H Ogawa Plaza   \n",
       "\n",
       "   start_station_latitude  start_station_longitude  end_station_id  \\\n",
       "0               37.789625              -122.400811            13.0   \n",
       "1               37.791464              -122.391034            81.0   \n",
       "2               37.769305              -122.426826             3.0   \n",
       "3               37.774836              -122.446546            70.0   \n",
       "4               37.804562              -122.271738           222.0   \n",
       "\n",
       "                               end_station_name  end_station_latitude  \\\n",
       "0                Commercial St at Montgomery St             37.794231   \n",
       "1                            Berry St at 4th St             37.775880   \n",
       "2  Powell St BART Station (Market St at 4th St)             37.786375   \n",
       "3                        Central Ave at Fell St             37.773311   \n",
       "4                         10th Ave at E 15th St             37.792714   \n",
       "\n",
       "   end_station_longitude  bike_id   user_type  member_birth_year  \\\n",
       "0            -122.402923     4902    Customer             1984.0   \n",
       "1            -122.393170     2535    Customer                NaN   \n",
       "2            -122.404904     5905    Customer             1972.0   \n",
       "3            -122.444293     6638  Subscriber             1989.0   \n",
       "4            -122.248780     4898  Subscriber             1974.0   \n",
       "\n",
       "  member_gender bike_share_for_all_trip  \n",
       "0          Male                      No  \n",
       "1           NaN                      No  \n",
       "2          Male                      No  \n",
       "3         Other                      No  \n",
       "4          Male                     Yes  "
      ]
     },
     "execution_count": 4,
     "metadata": {},
     "output_type": "execute_result"
    }
   ],
   "source": [
    "df.head()"
   ]
  },
  {
   "cell_type": "markdown",
   "metadata": {},
   "source": [
    "### Assess"
   ]
  },
  {
   "cell_type": "code",
   "execution_count": 5,
   "metadata": {
    "scrolled": true
   },
   "outputs": [
    {
     "name": "stdout",
     "output_type": "stream",
     "text": [
      "<class 'pandas.core.frame.DataFrame'>\n",
      "RangeIndex: 183412 entries, 0 to 183411\n",
      "Data columns (total 16 columns):\n",
      " #   Column                   Non-Null Count   Dtype  \n",
      "---  ------                   --------------   -----  \n",
      " 0   duration_sec             183412 non-null  int64  \n",
      " 1   start_time               183412 non-null  object \n",
      " 2   end_time                 183412 non-null  object \n",
      " 3   start_station_id         183215 non-null  float64\n",
      " 4   start_station_name       183215 non-null  object \n",
      " 5   start_station_latitude   183412 non-null  float64\n",
      " 6   start_station_longitude  183412 non-null  float64\n",
      " 7   end_station_id           183215 non-null  float64\n",
      " 8   end_station_name         183215 non-null  object \n",
      " 9   end_station_latitude     183412 non-null  float64\n",
      " 10  end_station_longitude    183412 non-null  float64\n",
      " 11  bike_id                  183412 non-null  int64  \n",
      " 12  user_type                183412 non-null  object \n",
      " 13  member_birth_year        175147 non-null  float64\n",
      " 14  member_gender            175147 non-null  object \n",
      " 15  bike_share_for_all_trip  183412 non-null  object \n",
      "dtypes: float64(7), int64(2), object(7)\n",
      "memory usage: 22.4+ MB\n"
     ]
    }
   ],
   "source": [
    "df.info()"
   ]
  },
  {
   "cell_type": "code",
   "execution_count": 6,
   "metadata": {},
   "outputs": [
    {
     "data": {
      "text/plain": [
       "(183412, 16)"
      ]
     },
     "execution_count": 6,
     "metadata": {},
     "output_type": "execute_result"
    }
   ],
   "source": [
    "df.shape"
   ]
  },
  {
   "cell_type": "code",
   "execution_count": 7,
   "metadata": {
    "scrolled": true
   },
   "outputs": [
    {
     "data": {
      "text/html": [
       "<div>\n",
       "<style scoped>\n",
       "    .dataframe tbody tr th:only-of-type {\n",
       "        vertical-align: middle;\n",
       "    }\n",
       "\n",
       "    .dataframe tbody tr th {\n",
       "        vertical-align: top;\n",
       "    }\n",
       "\n",
       "    .dataframe thead th {\n",
       "        text-align: right;\n",
       "    }\n",
       "</style>\n",
       "<table border=\"1\" class=\"dataframe\">\n",
       "  <thead>\n",
       "    <tr style=\"text-align: right;\">\n",
       "      <th></th>\n",
       "      <th>duration_sec</th>\n",
       "      <th>start_station_id</th>\n",
       "      <th>start_station_latitude</th>\n",
       "      <th>start_station_longitude</th>\n",
       "      <th>end_station_id</th>\n",
       "      <th>end_station_latitude</th>\n",
       "      <th>end_station_longitude</th>\n",
       "      <th>bike_id</th>\n",
       "      <th>member_birth_year</th>\n",
       "    </tr>\n",
       "  </thead>\n",
       "  <tbody>\n",
       "    <tr>\n",
       "      <th>count</th>\n",
       "      <td>183412.000000</td>\n",
       "      <td>183215.000000</td>\n",
       "      <td>183412.000000</td>\n",
       "      <td>183412.000000</td>\n",
       "      <td>183215.000000</td>\n",
       "      <td>183412.000000</td>\n",
       "      <td>183412.000000</td>\n",
       "      <td>183412.000000</td>\n",
       "      <td>175147.000000</td>\n",
       "    </tr>\n",
       "    <tr>\n",
       "      <th>mean</th>\n",
       "      <td>726.078435</td>\n",
       "      <td>138.590427</td>\n",
       "      <td>37.771223</td>\n",
       "      <td>-122.352664</td>\n",
       "      <td>136.249123</td>\n",
       "      <td>37.771427</td>\n",
       "      <td>-122.352250</td>\n",
       "      <td>4472.906375</td>\n",
       "      <td>1984.806437</td>\n",
       "    </tr>\n",
       "    <tr>\n",
       "      <th>std</th>\n",
       "      <td>1794.389780</td>\n",
       "      <td>111.778864</td>\n",
       "      <td>0.099581</td>\n",
       "      <td>0.117097</td>\n",
       "      <td>111.515131</td>\n",
       "      <td>0.099490</td>\n",
       "      <td>0.116673</td>\n",
       "      <td>1664.383394</td>\n",
       "      <td>10.116689</td>\n",
       "    </tr>\n",
       "    <tr>\n",
       "      <th>min</th>\n",
       "      <td>61.000000</td>\n",
       "      <td>3.000000</td>\n",
       "      <td>37.317298</td>\n",
       "      <td>-122.453704</td>\n",
       "      <td>3.000000</td>\n",
       "      <td>37.317298</td>\n",
       "      <td>-122.453704</td>\n",
       "      <td>11.000000</td>\n",
       "      <td>1878.000000</td>\n",
       "    </tr>\n",
       "    <tr>\n",
       "      <th>25%</th>\n",
       "      <td>325.000000</td>\n",
       "      <td>47.000000</td>\n",
       "      <td>37.770083</td>\n",
       "      <td>-122.412408</td>\n",
       "      <td>44.000000</td>\n",
       "      <td>37.770407</td>\n",
       "      <td>-122.411726</td>\n",
       "      <td>3777.000000</td>\n",
       "      <td>1980.000000</td>\n",
       "    </tr>\n",
       "    <tr>\n",
       "      <th>50%</th>\n",
       "      <td>514.000000</td>\n",
       "      <td>104.000000</td>\n",
       "      <td>37.780760</td>\n",
       "      <td>-122.398285</td>\n",
       "      <td>100.000000</td>\n",
       "      <td>37.781010</td>\n",
       "      <td>-122.398279</td>\n",
       "      <td>4958.000000</td>\n",
       "      <td>1987.000000</td>\n",
       "    </tr>\n",
       "    <tr>\n",
       "      <th>75%</th>\n",
       "      <td>796.000000</td>\n",
       "      <td>239.000000</td>\n",
       "      <td>37.797280</td>\n",
       "      <td>-122.286533</td>\n",
       "      <td>235.000000</td>\n",
       "      <td>37.797320</td>\n",
       "      <td>-122.288045</td>\n",
       "      <td>5502.000000</td>\n",
       "      <td>1992.000000</td>\n",
       "    </tr>\n",
       "    <tr>\n",
       "      <th>max</th>\n",
       "      <td>85444.000000</td>\n",
       "      <td>398.000000</td>\n",
       "      <td>37.880222</td>\n",
       "      <td>-121.874119</td>\n",
       "      <td>398.000000</td>\n",
       "      <td>37.880222</td>\n",
       "      <td>-121.874119</td>\n",
       "      <td>6645.000000</td>\n",
       "      <td>2001.000000</td>\n",
       "    </tr>\n",
       "  </tbody>\n",
       "</table>\n",
       "</div>"
      ],
      "text/plain": [
       "        duration_sec  start_station_id  start_station_latitude  \\\n",
       "count  183412.000000     183215.000000           183412.000000   \n",
       "mean      726.078435        138.590427               37.771223   \n",
       "std      1794.389780        111.778864                0.099581   \n",
       "min        61.000000          3.000000               37.317298   \n",
       "25%       325.000000         47.000000               37.770083   \n",
       "50%       514.000000        104.000000               37.780760   \n",
       "75%       796.000000        239.000000               37.797280   \n",
       "max     85444.000000        398.000000               37.880222   \n",
       "\n",
       "       start_station_longitude  end_station_id  end_station_latitude  \\\n",
       "count            183412.000000   183215.000000         183412.000000   \n",
       "mean               -122.352664      136.249123             37.771427   \n",
       "std                   0.117097      111.515131              0.099490   \n",
       "min                -122.453704        3.000000             37.317298   \n",
       "25%                -122.412408       44.000000             37.770407   \n",
       "50%                -122.398285      100.000000             37.781010   \n",
       "75%                -122.286533      235.000000             37.797320   \n",
       "max                -121.874119      398.000000             37.880222   \n",
       "\n",
       "       end_station_longitude        bike_id  member_birth_year  \n",
       "count          183412.000000  183412.000000      175147.000000  \n",
       "mean             -122.352250    4472.906375        1984.806437  \n",
       "std                 0.116673    1664.383394          10.116689  \n",
       "min              -122.453704      11.000000        1878.000000  \n",
       "25%              -122.411726    3777.000000        1980.000000  \n",
       "50%              -122.398279    4958.000000        1987.000000  \n",
       "75%              -122.288045    5502.000000        1992.000000  \n",
       "max              -121.874119    6645.000000        2001.000000  "
      ]
     },
     "execution_count": 7,
     "metadata": {},
     "output_type": "execute_result"
    }
   ],
   "source": [
    "df.describe()"
   ]
  },
  {
   "cell_type": "code",
   "execution_count": 8,
   "metadata": {
    "scrolled": true
   },
   "outputs": [
    {
     "data": {
      "text/html": [
       "<div>\n",
       "<style scoped>\n",
       "    .dataframe tbody tr th:only-of-type {\n",
       "        vertical-align: middle;\n",
       "    }\n",
       "\n",
       "    .dataframe tbody tr th {\n",
       "        vertical-align: top;\n",
       "    }\n",
       "\n",
       "    .dataframe thead th {\n",
       "        text-align: right;\n",
       "    }\n",
       "</style>\n",
       "<table border=\"1\" class=\"dataframe\">\n",
       "  <thead>\n",
       "    <tr style=\"text-align: right;\">\n",
       "      <th></th>\n",
       "      <th>start_time</th>\n",
       "      <th>end_time</th>\n",
       "      <th>start_station_name</th>\n",
       "      <th>end_station_name</th>\n",
       "      <th>user_type</th>\n",
       "      <th>member_gender</th>\n",
       "      <th>bike_share_for_all_trip</th>\n",
       "    </tr>\n",
       "  </thead>\n",
       "  <tbody>\n",
       "    <tr>\n",
       "      <th>count</th>\n",
       "      <td>183412</td>\n",
       "      <td>183412</td>\n",
       "      <td>183215</td>\n",
       "      <td>183215</td>\n",
       "      <td>183412</td>\n",
       "      <td>175147</td>\n",
       "      <td>183412</td>\n",
       "    </tr>\n",
       "    <tr>\n",
       "      <th>unique</th>\n",
       "      <td>183401</td>\n",
       "      <td>183397</td>\n",
       "      <td>329</td>\n",
       "      <td>329</td>\n",
       "      <td>2</td>\n",
       "      <td>3</td>\n",
       "      <td>2</td>\n",
       "    </tr>\n",
       "    <tr>\n",
       "      <th>top</th>\n",
       "      <td>2019-02-01 13:40:09.4920</td>\n",
       "      <td>2019-02-28 17:40:37.3280</td>\n",
       "      <td>Market St at 10th St</td>\n",
       "      <td>San Francisco Caltrain Station 2  (Townsend St...</td>\n",
       "      <td>Subscriber</td>\n",
       "      <td>Male</td>\n",
       "      <td>No</td>\n",
       "    </tr>\n",
       "    <tr>\n",
       "      <th>freq</th>\n",
       "      <td>2</td>\n",
       "      <td>2</td>\n",
       "      <td>3904</td>\n",
       "      <td>4857</td>\n",
       "      <td>163544</td>\n",
       "      <td>130651</td>\n",
       "      <td>166053</td>\n",
       "    </tr>\n",
       "  </tbody>\n",
       "</table>\n",
       "</div>"
      ],
      "text/plain": [
       "                      start_time                  end_time  \\\n",
       "count                     183412                    183412   \n",
       "unique                    183401                    183397   \n",
       "top     2019-02-01 13:40:09.4920  2019-02-28 17:40:37.3280   \n",
       "freq                           2                         2   \n",
       "\n",
       "          start_station_name  \\\n",
       "count                 183215   \n",
       "unique                   329   \n",
       "top     Market St at 10th St   \n",
       "freq                    3904   \n",
       "\n",
       "                                         end_station_name   user_type  \\\n",
       "count                                              183215      183412   \n",
       "unique                                                329           2   \n",
       "top     San Francisco Caltrain Station 2  (Townsend St...  Subscriber   \n",
       "freq                                                 4857      163544   \n",
       "\n",
       "       member_gender bike_share_for_all_trip  \n",
       "count         175147                  183412  \n",
       "unique             3                       2  \n",
       "top             Male                      No  \n",
       "freq          130651                  166053  "
      ]
     },
     "execution_count": 8,
     "metadata": {},
     "output_type": "execute_result"
    }
   ],
   "source": [
    "df.describe(include='O')"
   ]
  },
  {
   "cell_type": "code",
   "execution_count": 97,
   "metadata": {},
   "outputs": [
    {
     "data": {
      "text/plain": [
       "duration_min               0\n",
       "start_time                 0\n",
       "end_time                   0\n",
       "start_station_name         0\n",
       "end_station_name           0\n",
       "bike_id                    0\n",
       "user_type                  0\n",
       "member_age                 0\n",
       "member_gender              0\n",
       "bike_share_for_all_trip    0\n",
       "start_day                  0\n",
       "start_hour                 0\n",
       "end_hour                   0\n",
       "dtype: int64"
      ]
     },
     "execution_count": 97,
     "metadata": {},
     "output_type": "execute_result"
    }
   ],
   "source": [
    "df.isnull().sum()"
   ]
  },
  {
   "cell_type": "code",
   "execution_count": 10,
   "metadata": {},
   "outputs": [
    {
     "data": {
      "text/plain": [
       "0"
      ]
     },
     "execution_count": 10,
     "metadata": {},
     "output_type": "execute_result"
    }
   ],
   "source": [
    "df.duplicated().sum()"
   ]
  },
  {
   "cell_type": "code",
   "execution_count": 11,
   "metadata": {},
   "outputs": [
    {
     "data": {
      "text/plain": [
       "array(['Male', nan, 'Other', 'Female'], dtype=object)"
      ]
     },
     "execution_count": 11,
     "metadata": {},
     "output_type": "execute_result"
    }
   ],
   "source": [
    "df.member_gender.unique()"
   ]
  },
  {
   "cell_type": "code",
   "execution_count": 12,
   "metadata": {},
   "outputs": [
    {
     "data": {
      "text/plain": [
       "duration_sec               3652\n",
       "start_time                 3652\n",
       "end_time                   3652\n",
       "start_station_id           3647\n",
       "start_station_name         3647\n",
       "start_station_latitude     3652\n",
       "start_station_longitude    3652\n",
       "end_station_id             3647\n",
       "end_station_name           3647\n",
       "end_station_latitude       3652\n",
       "end_station_longitude      3652\n",
       "bike_id                    3652\n",
       "user_type                  3652\n",
       "member_birth_year          3652\n",
       "member_gender              3652\n",
       "bike_share_for_all_trip    3652\n",
       "dtype: int64"
      ]
     },
     "execution_count": 12,
     "metadata": {},
     "output_type": "execute_result"
    }
   ],
   "source": [
    "df.query('member_gender == \"Other\"').count()"
   ]
  },
  {
   "cell_type": "markdown",
   "metadata": {},
   "source": [
    "### Clean"
   ]
  },
  {
   "cell_type": "markdown",
   "metadata": {},
   "source": [
    "- chang incorrect datatypes\n",
    "- drop null val\n",
    "- convert duration_sec to duration_min\n",
    "- convert member_birth_year to member_age\n",
    "- drop \"other\" from member_gender\n",
    "- Determine the started day of the week\n",
    "- Extracting the start and end hour\n",
    "- drop unuseful columns "
   ]
  },
  {
   "cell_type": "code",
   "execution_count": 13,
   "metadata": {},
   "outputs": [],
   "source": [
    "df.start_time = pd.to_datetime(df.start_time)"
   ]
  },
  {
   "cell_type": "code",
   "execution_count": 14,
   "metadata": {},
   "outputs": [],
   "source": [
    "df.end_time = pd.to_datetime(df.end_time)"
   ]
  },
  {
   "cell_type": "code",
   "execution_count": 15,
   "metadata": {},
   "outputs": [],
   "source": [
    "df = df.dropna()"
   ]
  },
  {
   "cell_type": "code",
   "execution_count": 16,
   "metadata": {},
   "outputs": [
    {
     "data": {
      "text/plain": [
       "duration_sec               0\n",
       "start_time                 0\n",
       "end_time                   0\n",
       "start_station_id           0\n",
       "start_station_name         0\n",
       "start_station_latitude     0\n",
       "start_station_longitude    0\n",
       "end_station_id             0\n",
       "end_station_name           0\n",
       "end_station_latitude       0\n",
       "end_station_longitude      0\n",
       "bike_id                    0\n",
       "user_type                  0\n",
       "member_birth_year          0\n",
       "member_gender              0\n",
       "bike_share_for_all_trip    0\n",
       "dtype: int64"
      ]
     },
     "execution_count": 16,
     "metadata": {},
     "output_type": "execute_result"
    }
   ],
   "source": [
    "df.isnull().sum()"
   ]
  },
  {
   "cell_type": "code",
   "execution_count": 17,
   "metadata": {},
   "outputs": [
    {
     "data": {
      "text/plain": [
       "(174952, 16)"
      ]
     },
     "execution_count": 17,
     "metadata": {},
     "output_type": "execute_result"
    }
   ],
   "source": [
    "df.shape"
   ]
  },
  {
   "cell_type": "code",
   "execution_count": 18,
   "metadata": {
    "scrolled": true
   },
   "outputs": [],
   "source": [
    "df.loc[ : ,'duration_sec'] = df['duration_sec']/60"
   ]
  },
  {
   "cell_type": "code",
   "execution_count": 19,
   "metadata": {},
   "outputs": [],
   "source": [
    "df.rename(columns={'duration_sec': 'duration_min'}, inplace=True)"
   ]
  },
  {
   "cell_type": "code",
   "execution_count": 20,
   "metadata": {},
   "outputs": [],
   "source": [
    "df.loc[ : ,'member_birth_year'] = 2021 - df['member_birth_year']"
   ]
  },
  {
   "cell_type": "code",
   "execution_count": 21,
   "metadata": {},
   "outputs": [],
   "source": [
    "df.rename(columns={'member_birth_year': 'member_age'}, inplace=True)"
   ]
  },
  {
   "cell_type": "code",
   "execution_count": 22,
   "metadata": {},
   "outputs": [],
   "source": [
    "df.member_age = df.member_age.astype('int64')"
   ]
  },
  {
   "cell_type": "code",
   "execution_count": 23,
   "metadata": {},
   "outputs": [],
   "source": [
    "df.duration_min = df.duration_min.astype('int64')"
   ]
  },
  {
   "cell_type": "code",
   "execution_count": 24,
   "metadata": {},
   "outputs": [],
   "source": [
    "other = df[df['member_gender']=='Other'].index\n",
    "df = df.drop(index=other)"
   ]
  },
  {
   "cell_type": "code",
   "execution_count": 25,
   "metadata": {
    "scrolled": true
   },
   "outputs": [
    {
     "data": {
      "text/plain": [
       "array(['Male', 'Female'], dtype=object)"
      ]
     },
     "execution_count": 25,
     "metadata": {},
     "output_type": "execute_result"
    }
   ],
   "source": [
    "df.member_gender.unique()"
   ]
  },
  {
   "cell_type": "code",
   "execution_count": 26,
   "metadata": {},
   "outputs": [],
   "source": [
    "df['start_day'] = df.start_time.dt.strftime('%a')"
   ]
  },
  {
   "cell_type": "code",
   "execution_count": 27,
   "metadata": {
    "scrolled": true
   },
   "outputs": [
    {
     "data": {
      "text/plain": [
       "array(['Thu', 'Wed', 'Tue', 'Mon', 'Sun', 'Sat', 'Fri'], dtype=object)"
      ]
     },
     "execution_count": 27,
     "metadata": {},
     "output_type": "execute_result"
    }
   ],
   "source": [
    "df.start_day.unique()"
   ]
  },
  {
   "cell_type": "code",
   "execution_count": 28,
   "metadata": {},
   "outputs": [
    {
     "data": {
      "text/plain": [
       "Thu    32984\n",
       "Tue    30022\n",
       "Wed    27825\n",
       "Fri    27083\n",
       "Mon    25106\n",
       "Sun    14183\n",
       "Sat    14102\n",
       "Name: start_day, dtype: int64"
      ]
     },
     "execution_count": 28,
     "metadata": {},
     "output_type": "execute_result"
    }
   ],
   "source": [
    "df['start_day'].value_counts()"
   ]
  },
  {
   "cell_type": "code",
   "execution_count": 29,
   "metadata": {},
   "outputs": [],
   "source": [
    "df['start_hour'] = df.start_time.dt.strftime('%H')"
   ]
  },
  {
   "cell_type": "code",
   "execution_count": 30,
   "metadata": {},
   "outputs": [
    {
     "data": {
      "text/plain": [
       "17    20497\n",
       "08    19881\n",
       "18    15785\n",
       "09    14907\n",
       "16    13196\n",
       "07    10055\n",
       "19     9210\n",
       "15     8468\n",
       "12     8020\n",
       "13     7906\n",
       "10     7759\n",
       "14     7494\n",
       "11     7298\n",
       "20     6085\n",
       "21     4291\n",
       "06     3258\n",
       "22     2720\n",
       "23     1530\n",
       "00      869\n",
       "05      860\n",
       "01      509\n",
       "02      340\n",
       "04      215\n",
       "03      152\n",
       "Name: start_hour, dtype: int64"
      ]
     },
     "execution_count": 30,
     "metadata": {},
     "output_type": "execute_result"
    }
   ],
   "source": [
    "df['start_hour'].value_counts()"
   ]
  },
  {
   "cell_type": "code",
   "execution_count": 31,
   "metadata": {},
   "outputs": [],
   "source": [
    "df['end_hour'] = df.end_time.dt.strftime('%H')"
   ]
  },
  {
   "cell_type": "code",
   "execution_count": 33,
   "metadata": {},
   "outputs": [
    {
     "data": {
      "text/plain": [
       "17    19938\n",
       "08    18678\n",
       "18    17121\n",
       "09    16675\n",
       "16    12266\n",
       "19     9988\n",
       "07     8315\n",
       "10     8304\n",
       "15     8104\n",
       "12     7937\n",
       "13     7900\n",
       "14     7510\n",
       "11     7055\n",
       "20     6479\n",
       "21     4598\n",
       "22     3016\n",
       "06     2769\n",
       "23     1703\n",
       "00      938\n",
       "05      734\n",
       "01      524\n",
       "02      385\n",
       "04      212\n",
       "03      156\n",
       "Name: end_hour, dtype: int64"
      ]
     },
     "execution_count": 33,
     "metadata": {},
     "output_type": "execute_result"
    }
   ],
   "source": [
    "df['end_hour'].value_counts()"
   ]
  },
  {
   "cell_type": "code",
   "execution_count": 34,
   "metadata": {},
   "outputs": [],
   "source": [
    "df=df.drop(columns=['start_station_id','start_station_latitude','start_station_longitude','end_station_id','end_station_latitude','end_station_longitude'])"
   ]
  },
  {
   "cell_type": "code",
   "execution_count": 35,
   "metadata": {},
   "outputs": [
    {
     "data": {
      "text/html": [
       "<div>\n",
       "<style scoped>\n",
       "    .dataframe tbody tr th:only-of-type {\n",
       "        vertical-align: middle;\n",
       "    }\n",
       "\n",
       "    .dataframe tbody tr th {\n",
       "        vertical-align: top;\n",
       "    }\n",
       "\n",
       "    .dataframe thead th {\n",
       "        text-align: right;\n",
       "    }\n",
       "</style>\n",
       "<table border=\"1\" class=\"dataframe\">\n",
       "  <thead>\n",
       "    <tr style=\"text-align: right;\">\n",
       "      <th></th>\n",
       "      <th>duration_min</th>\n",
       "      <th>start_time</th>\n",
       "      <th>end_time</th>\n",
       "      <th>start_station_name</th>\n",
       "      <th>end_station_name</th>\n",
       "      <th>bike_id</th>\n",
       "      <th>user_type</th>\n",
       "      <th>member_age</th>\n",
       "      <th>member_gender</th>\n",
       "      <th>bike_share_for_all_trip</th>\n",
       "      <th>start_day</th>\n",
       "      <th>start_hour</th>\n",
       "      <th>end_hour</th>\n",
       "    </tr>\n",
       "  </thead>\n",
       "  <tbody>\n",
       "    <tr>\n",
       "      <th>0</th>\n",
       "      <td>869</td>\n",
       "      <td>2019-02-28 17:32:10.145</td>\n",
       "      <td>2019-03-01 08:01:55.975</td>\n",
       "      <td>Montgomery St BART Station (Market St at 2nd St)</td>\n",
       "      <td>Commercial St at Montgomery St</td>\n",
       "      <td>4902</td>\n",
       "      <td>Customer</td>\n",
       "      <td>37</td>\n",
       "      <td>Male</td>\n",
       "      <td>No</td>\n",
       "      <td>Thu</td>\n",
       "      <td>17</td>\n",
       "      <td>08</td>\n",
       "    </tr>\n",
       "    <tr>\n",
       "      <th>2</th>\n",
       "      <td>1030</td>\n",
       "      <td>2019-02-28 12:13:13.218</td>\n",
       "      <td>2019-03-01 05:24:08.146</td>\n",
       "      <td>Market St at Dolores St</td>\n",
       "      <td>Powell St BART Station (Market St at 4th St)</td>\n",
       "      <td>5905</td>\n",
       "      <td>Customer</td>\n",
       "      <td>49</td>\n",
       "      <td>Male</td>\n",
       "      <td>No</td>\n",
       "      <td>Thu</td>\n",
       "      <td>12</td>\n",
       "      <td>05</td>\n",
       "    </tr>\n",
       "    <tr>\n",
       "      <th>4</th>\n",
       "      <td>26</td>\n",
       "      <td>2019-02-28 23:54:18.549</td>\n",
       "      <td>2019-03-01 00:20:44.074</td>\n",
       "      <td>Frank H Ogawa Plaza</td>\n",
       "      <td>10th Ave at E 15th St</td>\n",
       "      <td>4898</td>\n",
       "      <td>Subscriber</td>\n",
       "      <td>47</td>\n",
       "      <td>Male</td>\n",
       "      <td>Yes</td>\n",
       "      <td>Thu</td>\n",
       "      <td>23</td>\n",
       "      <td>00</td>\n",
       "    </tr>\n",
       "    <tr>\n",
       "      <th>5</th>\n",
       "      <td>29</td>\n",
       "      <td>2019-02-28 23:49:58.632</td>\n",
       "      <td>2019-03-01 00:19:51.760</td>\n",
       "      <td>4th St at Mission Bay Blvd S</td>\n",
       "      <td>Broadway at Kearny</td>\n",
       "      <td>5200</td>\n",
       "      <td>Subscriber</td>\n",
       "      <td>62</td>\n",
       "      <td>Male</td>\n",
       "      <td>No</td>\n",
       "      <td>Thu</td>\n",
       "      <td>23</td>\n",
       "      <td>00</td>\n",
       "    </tr>\n",
       "    <tr>\n",
       "      <th>6</th>\n",
       "      <td>19</td>\n",
       "      <td>2019-02-28 23:55:35.104</td>\n",
       "      <td>2019-03-01 00:14:42.588</td>\n",
       "      <td>Palm St at Willow St</td>\n",
       "      <td>San Jose Diridon Station</td>\n",
       "      <td>3803</td>\n",
       "      <td>Subscriber</td>\n",
       "      <td>38</td>\n",
       "      <td>Female</td>\n",
       "      <td>No</td>\n",
       "      <td>Thu</td>\n",
       "      <td>23</td>\n",
       "      <td>00</td>\n",
       "    </tr>\n",
       "    <tr>\n",
       "      <th>7</th>\n",
       "      <td>26</td>\n",
       "      <td>2019-02-28 23:41:06.766</td>\n",
       "      <td>2019-03-01 00:08:02.756</td>\n",
       "      <td>Washington St at Kearny St</td>\n",
       "      <td>Valencia St at 21st St</td>\n",
       "      <td>6329</td>\n",
       "      <td>Subscriber</td>\n",
       "      <td>32</td>\n",
       "      <td>Male</td>\n",
       "      <td>No</td>\n",
       "      <td>Thu</td>\n",
       "      <td>23</td>\n",
       "      <td>00</td>\n",
       "    </tr>\n",
       "    <tr>\n",
       "      <th>9</th>\n",
       "      <td>17</td>\n",
       "      <td>2019-02-28 23:49:47.699</td>\n",
       "      <td>2019-03-01 00:07:17.025</td>\n",
       "      <td>Post St at Kearny St</td>\n",
       "      <td>Mission Playground</td>\n",
       "      <td>6488</td>\n",
       "      <td>Subscriber</td>\n",
       "      <td>29</td>\n",
       "      <td>Male</td>\n",
       "      <td>No</td>\n",
       "      <td>Thu</td>\n",
       "      <td>23</td>\n",
       "      <td>00</td>\n",
       "    </tr>\n",
       "    <tr>\n",
       "      <th>10</th>\n",
       "      <td>7</td>\n",
       "      <td>2019-02-28 23:57:57.211</td>\n",
       "      <td>2019-03-01 00:05:35.435</td>\n",
       "      <td>Jones St at Post St</td>\n",
       "      <td>San Francisco Public Library (Grove St at Hyde...</td>\n",
       "      <td>5318</td>\n",
       "      <td>Subscriber</td>\n",
       "      <td>25</td>\n",
       "      <td>Female</td>\n",
       "      <td>Yes</td>\n",
       "      <td>Thu</td>\n",
       "      <td>23</td>\n",
       "      <td>00</td>\n",
       "    </tr>\n",
       "    <tr>\n",
       "      <th>11</th>\n",
       "      <td>8</td>\n",
       "      <td>2019-02-28 23:56:55.540</td>\n",
       "      <td>2019-03-01 00:05:21.733</td>\n",
       "      <td>Civic Center/UN Plaza BART Station (Market St ...</td>\n",
       "      <td>Bryant St at 2nd St</td>\n",
       "      <td>5848</td>\n",
       "      <td>Subscriber</td>\n",
       "      <td>28</td>\n",
       "      <td>Male</td>\n",
       "      <td>No</td>\n",
       "      <td>Thu</td>\n",
       "      <td>23</td>\n",
       "      <td>00</td>\n",
       "    </tr>\n",
       "    <tr>\n",
       "      <th>12</th>\n",
       "      <td>19</td>\n",
       "      <td>2019-02-28 23:45:12.651</td>\n",
       "      <td>2019-03-01 00:04:49.184</td>\n",
       "      <td>Valencia St at 21st St</td>\n",
       "      <td>Broadway at Kearny</td>\n",
       "      <td>5328</td>\n",
       "      <td>Customer</td>\n",
       "      <td>31</td>\n",
       "      <td>Male</td>\n",
       "      <td>No</td>\n",
       "      <td>Thu</td>\n",
       "      <td>23</td>\n",
       "      <td>00</td>\n",
       "    </tr>\n",
       "    <tr>\n",
       "      <th>14</th>\n",
       "      <td>6</td>\n",
       "      <td>2019-02-28 23:56:26.848</td>\n",
       "      <td>2019-03-01 00:03:01.947</td>\n",
       "      <td>Bancroft Way at College Ave</td>\n",
       "      <td>Channing Way at Shattuck Ave</td>\n",
       "      <td>4786</td>\n",
       "      <td>Subscriber</td>\n",
       "      <td>33</td>\n",
       "      <td>Male</td>\n",
       "      <td>No</td>\n",
       "      <td>Thu</td>\n",
       "      <td>23</td>\n",
       "      <td>00</td>\n",
       "    </tr>\n",
       "    <tr>\n",
       "      <th>15</th>\n",
       "      <td>3</td>\n",
       "      <td>2019-02-28 23:59:18.548</td>\n",
       "      <td>2019-03-01 00:02:47.228</td>\n",
       "      <td>Howard St at Mary St</td>\n",
       "      <td>8th St at Ringold St</td>\n",
       "      <td>6361</td>\n",
       "      <td>Subscriber</td>\n",
       "      <td>28</td>\n",
       "      <td>Male</td>\n",
       "      <td>Yes</td>\n",
       "      <td>Thu</td>\n",
       "      <td>23</td>\n",
       "      <td>00</td>\n",
       "    </tr>\n",
       "    <tr>\n",
       "      <th>16</th>\n",
       "      <td>9</td>\n",
       "      <td>2019-02-28 23:50:41.607</td>\n",
       "      <td>2019-02-28 23:59:49.953</td>\n",
       "      <td>22nd St at Dolores St</td>\n",
       "      <td>Broderick St at Oak St</td>\n",
       "      <td>6572</td>\n",
       "      <td>Subscriber</td>\n",
       "      <td>40</td>\n",
       "      <td>Male</td>\n",
       "      <td>No</td>\n",
       "      <td>Thu</td>\n",
       "      <td>23</td>\n",
       "      <td>23</td>\n",
       "    </tr>\n",
       "    <tr>\n",
       "      <th>17</th>\n",
       "      <td>11</td>\n",
       "      <td>2019-02-28 23:48:25.095</td>\n",
       "      <td>2019-02-28 23:59:40.092</td>\n",
       "      <td>Laguna St at Hayes St</td>\n",
       "      <td>Potrero Ave and Mariposa St</td>\n",
       "      <td>5343</td>\n",
       "      <td>Subscriber</td>\n",
       "      <td>46</td>\n",
       "      <td>Male</td>\n",
       "      <td>No</td>\n",
       "      <td>Thu</td>\n",
       "      <td>23</td>\n",
       "      <td>23</td>\n",
       "    </tr>\n",
       "    <tr>\n",
       "      <th>18</th>\n",
       "      <td>9</td>\n",
       "      <td>2019-02-28 23:49:01.851</td>\n",
       "      <td>2019-02-28 23:58:19.809</td>\n",
       "      <td>5th St at Folsom</td>\n",
       "      <td>Market St at Franklin St</td>\n",
       "      <td>5854</td>\n",
       "      <td>Subscriber</td>\n",
       "      <td>31</td>\n",
       "      <td>Male</td>\n",
       "      <td>No</td>\n",
       "      <td>Thu</td>\n",
       "      <td>23</td>\n",
       "      <td>23</td>\n",
       "    </tr>\n",
       "    <tr>\n",
       "      <th>19</th>\n",
       "      <td>14</td>\n",
       "      <td>2019-02-28 23:43:05.183</td>\n",
       "      <td>2019-02-28 23:57:39.796</td>\n",
       "      <td>Telegraph Ave at 23rd St</td>\n",
       "      <td>Telegraph Ave at 23rd St</td>\n",
       "      <td>5629</td>\n",
       "      <td>Customer</td>\n",
       "      <td>43</td>\n",
       "      <td>Male</td>\n",
       "      <td>No</td>\n",
       "      <td>Thu</td>\n",
       "      <td>23</td>\n",
       "      <td>23</td>\n",
       "    </tr>\n",
       "    <tr>\n",
       "      <th>20</th>\n",
       "      <td>6</td>\n",
       "      <td>2019-02-28 23:50:38.239</td>\n",
       "      <td>2019-02-28 23:57:35.852</td>\n",
       "      <td>Page St at Scott St</td>\n",
       "      <td>17th St at Dolores St</td>\n",
       "      <td>4999</td>\n",
       "      <td>Subscriber</td>\n",
       "      <td>38</td>\n",
       "      <td>Male</td>\n",
       "      <td>No</td>\n",
       "      <td>Thu</td>\n",
       "      <td>23</td>\n",
       "      <td>23</td>\n",
       "    </tr>\n",
       "    <tr>\n",
       "      <th>21</th>\n",
       "      <td>6</td>\n",
       "      <td>2019-02-28 23:50:26.879</td>\n",
       "      <td>2019-02-28 23:57:21.130</td>\n",
       "      <td>Lake Merritt BART Station</td>\n",
       "      <td>6th Ave at E 12th St (Temporary Location)</td>\n",
       "      <td>6007</td>\n",
       "      <td>Subscriber</td>\n",
       "      <td>37</td>\n",
       "      <td>Male</td>\n",
       "      <td>Yes</td>\n",
       "      <td>Thu</td>\n",
       "      <td>23</td>\n",
       "      <td>23</td>\n",
       "    </tr>\n",
       "    <tr>\n",
       "      <th>22</th>\n",
       "      <td>12</td>\n",
       "      <td>2019-02-28 23:44:56.439</td>\n",
       "      <td>2019-02-28 23:57:20.212</td>\n",
       "      <td>Jones St at Post St</td>\n",
       "      <td>McAllister St at Baker St</td>\n",
       "      <td>5479</td>\n",
       "      <td>Subscriber</td>\n",
       "      <td>30</td>\n",
       "      <td>Female</td>\n",
       "      <td>No</td>\n",
       "      <td>Thu</td>\n",
       "      <td>23</td>\n",
       "      <td>23</td>\n",
       "    </tr>\n",
       "    <tr>\n",
       "      <th>23</th>\n",
       "      <td>6</td>\n",
       "      <td>2019-02-28 23:51:06.014</td>\n",
       "      <td>2019-02-28 23:57:13.312</td>\n",
       "      <td>Bancroft Way at College Ave</td>\n",
       "      <td>Telegraph Ave at Carleton St</td>\n",
       "      <td>1804</td>\n",
       "      <td>Subscriber</td>\n",
       "      <td>24</td>\n",
       "      <td>Female</td>\n",
       "      <td>No</td>\n",
       "      <td>Thu</td>\n",
       "      <td>23</td>\n",
       "      <td>23</td>\n",
       "    </tr>\n",
       "    <tr>\n",
       "      <th>24</th>\n",
       "      <td>4</td>\n",
       "      <td>2019-02-28 23:52:51.164</td>\n",
       "      <td>2019-02-28 23:57:03.976</td>\n",
       "      <td>West St at 40th St</td>\n",
       "      <td>Genoa St at 55th St</td>\n",
       "      <td>5678</td>\n",
       "      <td>Subscriber</td>\n",
       "      <td>46</td>\n",
       "      <td>Male</td>\n",
       "      <td>No</td>\n",
       "      <td>Thu</td>\n",
       "      <td>23</td>\n",
       "      <td>23</td>\n",
       "    </tr>\n",
       "    <tr>\n",
       "      <th>25</th>\n",
       "      <td>6</td>\n",
       "      <td>2019-02-28 23:50:31.431</td>\n",
       "      <td>2019-02-28 23:56:31.891</td>\n",
       "      <td>Lake Merritt BART Station</td>\n",
       "      <td>Grand Ave at Perkins St</td>\n",
       "      <td>6240</td>\n",
       "      <td>Subscriber</td>\n",
       "      <td>35</td>\n",
       "      <td>Male</td>\n",
       "      <td>No</td>\n",
       "      <td>Thu</td>\n",
       "      <td>23</td>\n",
       "      <td>23</td>\n",
       "    </tr>\n",
       "    <tr>\n",
       "      <th>26</th>\n",
       "      <td>6</td>\n",
       "      <td>2019-02-28 23:49:24.399</td>\n",
       "      <td>2019-02-28 23:55:50.284</td>\n",
       "      <td>The Embarcadero at Sansome St</td>\n",
       "      <td>San Francisco Ferry Building (Harry Bridges Pl...</td>\n",
       "      <td>6531</td>\n",
       "      <td>Customer</td>\n",
       "      <td>21</td>\n",
       "      <td>Male</td>\n",
       "      <td>No</td>\n",
       "      <td>Thu</td>\n",
       "      <td>23</td>\n",
       "      <td>23</td>\n",
       "    </tr>\n",
       "    <tr>\n",
       "      <th>27</th>\n",
       "      <td>6</td>\n",
       "      <td>2019-02-28 23:48:08.282</td>\n",
       "      <td>2019-02-28 23:54:56.930</td>\n",
       "      <td>Folsom St at 9th St</td>\n",
       "      <td>Folsom St at 9th St</td>\n",
       "      <td>5410</td>\n",
       "      <td>Subscriber</td>\n",
       "      <td>39</td>\n",
       "      <td>Male</td>\n",
       "      <td>No</td>\n",
       "      <td>Thu</td>\n",
       "      <td>23</td>\n",
       "      <td>23</td>\n",
       "    </tr>\n",
       "    <tr>\n",
       "      <th>29</th>\n",
       "      <td>10</td>\n",
       "      <td>2019-02-28 23:43:48.658</td>\n",
       "      <td>2019-02-28 23:54:18.254</td>\n",
       "      <td>University Ave at Oxford St</td>\n",
       "      <td>Channing Way at San Pablo Ave</td>\n",
       "      <td>363</td>\n",
       "      <td>Subscriber</td>\n",
       "      <td>26</td>\n",
       "      <td>Male</td>\n",
       "      <td>No</td>\n",
       "      <td>Thu</td>\n",
       "      <td>23</td>\n",
       "      <td>23</td>\n",
       "    </tr>\n",
       "    <tr>\n",
       "      <th>30</th>\n",
       "      <td>2</td>\n",
       "      <td>2019-02-28 23:50:45.698</td>\n",
       "      <td>2019-02-28 23:53:29.569</td>\n",
       "      <td>MLK Jr Way at University Ave</td>\n",
       "      <td>Shattuck Ave at Hearst Ave</td>\n",
       "      <td>5669</td>\n",
       "      <td>Subscriber</td>\n",
       "      <td>25</td>\n",
       "      <td>Male</td>\n",
       "      <td>Yes</td>\n",
       "      <td>Thu</td>\n",
       "      <td>23</td>\n",
       "      <td>23</td>\n",
       "    </tr>\n",
       "    <tr>\n",
       "      <th>31</th>\n",
       "      <td>3</td>\n",
       "      <td>2019-02-28 23:49:27.027</td>\n",
       "      <td>2019-02-28 23:53:10.535</td>\n",
       "      <td>The Embarcadero at Bryant St</td>\n",
       "      <td>2nd St at Townsend St</td>\n",
       "      <td>6267</td>\n",
       "      <td>Customer</td>\n",
       "      <td>28</td>\n",
       "      <td>Male</td>\n",
       "      <td>No</td>\n",
       "      <td>Thu</td>\n",
       "      <td>23</td>\n",
       "      <td>23</td>\n",
       "    </tr>\n",
       "    <tr>\n",
       "      <th>32</th>\n",
       "      <td>6</td>\n",
       "      <td>2019-02-28 23:45:39.234</td>\n",
       "      <td>2019-02-28 23:52:24.850</td>\n",
       "      <td>17th St at Valencia St</td>\n",
       "      <td>Pierce St at Haight St</td>\n",
       "      <td>5130</td>\n",
       "      <td>Subscriber</td>\n",
       "      <td>41</td>\n",
       "      <td>Female</td>\n",
       "      <td>No</td>\n",
       "      <td>Thu</td>\n",
       "      <td>23</td>\n",
       "      <td>23</td>\n",
       "    </tr>\n",
       "    <tr>\n",
       "      <th>33</th>\n",
       "      <td>10</td>\n",
       "      <td>2019-02-28 23:40:32.273</td>\n",
       "      <td>2019-02-28 23:51:10.639</td>\n",
       "      <td>Valencia St at 16th St</td>\n",
       "      <td>Potrero del Sol Park (25th St at Utah St)</td>\n",
       "      <td>6435</td>\n",
       "      <td>Subscriber</td>\n",
       "      <td>48</td>\n",
       "      <td>Male</td>\n",
       "      <td>No</td>\n",
       "      <td>Thu</td>\n",
       "      <td>23</td>\n",
       "      <td>23</td>\n",
       "    </tr>\n",
       "    <tr>\n",
       "      <th>34</th>\n",
       "      <td>7</td>\n",
       "      <td>2019-02-28 23:42:43.361</td>\n",
       "      <td>2019-02-28 23:50:34.446</td>\n",
       "      <td>Valencia St at 22nd St</td>\n",
       "      <td>Valencia St at 22nd St</td>\n",
       "      <td>5559</td>\n",
       "      <td>Subscriber</td>\n",
       "      <td>29</td>\n",
       "      <td>Male</td>\n",
       "      <td>No</td>\n",
       "      <td>Thu</td>\n",
       "      <td>23</td>\n",
       "      <td>23</td>\n",
       "    </tr>\n",
       "    <tr>\n",
       "      <th>35</th>\n",
       "      <td>5</td>\n",
       "      <td>2019-02-28 23:45:10.555</td>\n",
       "      <td>2019-02-28 23:50:28.905</td>\n",
       "      <td>Franklin Square</td>\n",
       "      <td>Jackson Playground</td>\n",
       "      <td>99</td>\n",
       "      <td>Subscriber</td>\n",
       "      <td>36</td>\n",
       "      <td>Female</td>\n",
       "      <td>No</td>\n",
       "      <td>Thu</td>\n",
       "      <td>23</td>\n",
       "      <td>23</td>\n",
       "    </tr>\n",
       "    <tr>\n",
       "      <th>36</th>\n",
       "      <td>2</td>\n",
       "      <td>2019-02-28 23:47:02.953</td>\n",
       "      <td>2019-02-28 23:49:31.141</td>\n",
       "      <td>San Pablo Ave at MLK Jr Way</td>\n",
       "      <td>Telegraph Ave at 23rd St</td>\n",
       "      <td>4864</td>\n",
       "      <td>Subscriber</td>\n",
       "      <td>38</td>\n",
       "      <td>Male</td>\n",
       "      <td>No</td>\n",
       "      <td>Thu</td>\n",
       "      <td>23</td>\n",
       "      <td>23</td>\n",
       "    </tr>\n",
       "    <tr>\n",
       "      <th>37</th>\n",
       "      <td>5</td>\n",
       "      <td>2019-02-28 23:44:12.676</td>\n",
       "      <td>2019-02-28 23:49:17.700</td>\n",
       "      <td>19th St at Mission St</td>\n",
       "      <td>Dolores St at 15th St</td>\n",
       "      <td>6264</td>\n",
       "      <td>Subscriber</td>\n",
       "      <td>37</td>\n",
       "      <td>Female</td>\n",
       "      <td>No</td>\n",
       "      <td>Thu</td>\n",
       "      <td>23</td>\n",
       "      <td>23</td>\n",
       "    </tr>\n",
       "    <tr>\n",
       "      <th>38</th>\n",
       "      <td>17</td>\n",
       "      <td>2019-02-28 23:31:16.139</td>\n",
       "      <td>2019-02-28 23:49:02.792</td>\n",
       "      <td>Market St at 10th St</td>\n",
       "      <td>29th St at Church St</td>\n",
       "      <td>5938</td>\n",
       "      <td>Subscriber</td>\n",
       "      <td>29</td>\n",
       "      <td>Female</td>\n",
       "      <td>No</td>\n",
       "      <td>Thu</td>\n",
       "      <td>23</td>\n",
       "      <td>23</td>\n",
       "    </tr>\n",
       "    <tr>\n",
       "      <th>39</th>\n",
       "      <td>12</td>\n",
       "      <td>2019-02-28 23:35:45.442</td>\n",
       "      <td>2019-02-28 23:48:03.157</td>\n",
       "      <td>Folsom St at 13th St</td>\n",
       "      <td>19th St at Mission St</td>\n",
       "      <td>6456</td>\n",
       "      <td>Customer</td>\n",
       "      <td>29</td>\n",
       "      <td>Female</td>\n",
       "      <td>No</td>\n",
       "      <td>Thu</td>\n",
       "      <td>23</td>\n",
       "      <td>23</td>\n",
       "    </tr>\n",
       "    <tr>\n",
       "      <th>40</th>\n",
       "      <td>5</td>\n",
       "      <td>2019-02-28 23:42:13.910</td>\n",
       "      <td>2019-02-28 23:47:42.543</td>\n",
       "      <td>Frank H Ogawa Plaza</td>\n",
       "      <td>Bay Pl at Vernon St</td>\n",
       "      <td>5154</td>\n",
       "      <td>Subscriber</td>\n",
       "      <td>50</td>\n",
       "      <td>Male</td>\n",
       "      <td>No</td>\n",
       "      <td>Thu</td>\n",
       "      <td>23</td>\n",
       "      <td>23</td>\n",
       "    </tr>\n",
       "    <tr>\n",
       "      <th>41</th>\n",
       "      <td>5</td>\n",
       "      <td>2019-02-28 23:40:56.075</td>\n",
       "      <td>2019-02-28 23:46:42.483</td>\n",
       "      <td>Washington St at Kearny St</td>\n",
       "      <td>Post St at Kearny St</td>\n",
       "      <td>6488</td>\n",
       "      <td>Subscriber</td>\n",
       "      <td>29</td>\n",
       "      <td>Male</td>\n",
       "      <td>No</td>\n",
       "      <td>Thu</td>\n",
       "      <td>23</td>\n",
       "      <td>23</td>\n",
       "    </tr>\n",
       "    <tr>\n",
       "      <th>42</th>\n",
       "      <td>25</td>\n",
       "      <td>2019-02-28 23:20:24.089</td>\n",
       "      <td>2019-02-28 23:46:19.019</td>\n",
       "      <td>San Francisco Ferry Building (Harry Bridges Pl...</td>\n",
       "      <td>Yerba Buena Center for the Arts (Howard St at ...</td>\n",
       "      <td>5411</td>\n",
       "      <td>Subscriber</td>\n",
       "      <td>49</td>\n",
       "      <td>Male</td>\n",
       "      <td>No</td>\n",
       "      <td>Thu</td>\n",
       "      <td>23</td>\n",
       "      <td>23</td>\n",
       "    </tr>\n",
       "    <tr>\n",
       "      <th>43</th>\n",
       "      <td>1</td>\n",
       "      <td>2019-02-28 23:44:00.988</td>\n",
       "      <td>2019-02-28 23:45:57.482</td>\n",
       "      <td>4th St at 16th St</td>\n",
       "      <td>4th St at Mission Bay Blvd S</td>\n",
       "      <td>823</td>\n",
       "      <td>Subscriber</td>\n",
       "      <td>62</td>\n",
       "      <td>Male</td>\n",
       "      <td>No</td>\n",
       "      <td>Thu</td>\n",
       "      <td>23</td>\n",
       "      <td>23</td>\n",
       "    </tr>\n",
       "    <tr>\n",
       "      <th>44</th>\n",
       "      <td>12</td>\n",
       "      <td>2019-02-28 23:32:59.464</td>\n",
       "      <td>2019-02-28 23:45:26.953</td>\n",
       "      <td>Beale St at Harrison St</td>\n",
       "      <td>Father Alfred E Boeddeker Park</td>\n",
       "      <td>6521</td>\n",
       "      <td>Subscriber</td>\n",
       "      <td>26</td>\n",
       "      <td>Male</td>\n",
       "      <td>No</td>\n",
       "      <td>Thu</td>\n",
       "      <td>23</td>\n",
       "      <td>23</td>\n",
       "    </tr>\n",
       "    <tr>\n",
       "      <th>45</th>\n",
       "      <td>11</td>\n",
       "      <td>2019-02-28 23:33:21.095</td>\n",
       "      <td>2019-02-28 23:45:18.510</td>\n",
       "      <td>Broadway at Battery St</td>\n",
       "      <td>Market St at 10th St</td>\n",
       "      <td>6581</td>\n",
       "      <td>Subscriber</td>\n",
       "      <td>41</td>\n",
       "      <td>Male</td>\n",
       "      <td>No</td>\n",
       "      <td>Thu</td>\n",
       "      <td>23</td>\n",
       "      <td>23</td>\n",
       "    </tr>\n",
       "    <tr>\n",
       "      <th>46</th>\n",
       "      <td>2</td>\n",
       "      <td>2019-02-28 23:41:35.898</td>\n",
       "      <td>2019-02-28 23:44:12.950</td>\n",
       "      <td>Cesar Chavez St at Dolores St</td>\n",
       "      <td>24th St at Chattanooga St</td>\n",
       "      <td>4571</td>\n",
       "      <td>Subscriber</td>\n",
       "      <td>40</td>\n",
       "      <td>Male</td>\n",
       "      <td>No</td>\n",
       "      <td>Thu</td>\n",
       "      <td>23</td>\n",
       "      <td>23</td>\n",
       "    </tr>\n",
       "    <tr>\n",
       "      <th>47</th>\n",
       "      <td>6</td>\n",
       "      <td>2019-02-28 23:36:35.579</td>\n",
       "      <td>2019-02-28 23:43:33.027</td>\n",
       "      <td>San Fernando St at 4th St</td>\n",
       "      <td>Pierce Ave at Market St</td>\n",
       "      <td>1501</td>\n",
       "      <td>Subscriber</td>\n",
       "      <td>28</td>\n",
       "      <td>Male</td>\n",
       "      <td>Yes</td>\n",
       "      <td>Thu</td>\n",
       "      <td>23</td>\n",
       "      <td>23</td>\n",
       "    </tr>\n",
       "    <tr>\n",
       "      <th>48</th>\n",
       "      <td>4</td>\n",
       "      <td>2019-02-28 23:38:32.514</td>\n",
       "      <td>2019-02-28 23:43:20.467</td>\n",
       "      <td>Grove St at Divisadero</td>\n",
       "      <td>Fell St at Stanyan St</td>\n",
       "      <td>4958</td>\n",
       "      <td>Subscriber</td>\n",
       "      <td>32</td>\n",
       "      <td>Male</td>\n",
       "      <td>No</td>\n",
       "      <td>Thu</td>\n",
       "      <td>23</td>\n",
       "      <td>23</td>\n",
       "    </tr>\n",
       "    <tr>\n",
       "      <th>49</th>\n",
       "      <td>3</td>\n",
       "      <td>2019-02-28 23:37:29.833</td>\n",
       "      <td>2019-02-28 23:40:52.870</td>\n",
       "      <td>Sanchez St at 17th St</td>\n",
       "      <td>17th St at Valencia St</td>\n",
       "      <td>6355</td>\n",
       "      <td>Subscriber</td>\n",
       "      <td>42</td>\n",
       "      <td>Male</td>\n",
       "      <td>No</td>\n",
       "      <td>Thu</td>\n",
       "      <td>23</td>\n",
       "      <td>23</td>\n",
       "    </tr>\n",
       "    <tr>\n",
       "      <th>50</th>\n",
       "      <td>24</td>\n",
       "      <td>2019-02-28 23:15:30.509</td>\n",
       "      <td>2019-02-28 23:39:32.503</td>\n",
       "      <td>Harmon St at Adeline St</td>\n",
       "      <td>San Pablo Ave at 27th St</td>\n",
       "      <td>3159</td>\n",
       "      <td>Subscriber</td>\n",
       "      <td>47</td>\n",
       "      <td>Female</td>\n",
       "      <td>Yes</td>\n",
       "      <td>Thu</td>\n",
       "      <td>23</td>\n",
       "      <td>23</td>\n",
       "    </tr>\n",
       "    <tr>\n",
       "      <th>51</th>\n",
       "      <td>8</td>\n",
       "      <td>2019-02-28 23:30:37.941</td>\n",
       "      <td>2019-02-28 23:39:30.206</td>\n",
       "      <td>The Embarcadero at Bryant St</td>\n",
       "      <td>Howard St at Mary St</td>\n",
       "      <td>6361</td>\n",
       "      <td>Customer</td>\n",
       "      <td>37</td>\n",
       "      <td>Male</td>\n",
       "      <td>No</td>\n",
       "      <td>Thu</td>\n",
       "      <td>23</td>\n",
       "      <td>23</td>\n",
       "    </tr>\n",
       "    <tr>\n",
       "      <th>52</th>\n",
       "      <td>11</td>\n",
       "      <td>2019-02-28 23:27:21.162</td>\n",
       "      <td>2019-02-28 23:39:18.916</td>\n",
       "      <td>Mission Playground</td>\n",
       "      <td>Central Ave at Fell St</td>\n",
       "      <td>4449</td>\n",
       "      <td>Subscriber</td>\n",
       "      <td>29</td>\n",
       "      <td>Male</td>\n",
       "      <td>No</td>\n",
       "      <td>Thu</td>\n",
       "      <td>23</td>\n",
       "      <td>23</td>\n",
       "    </tr>\n",
       "    <tr>\n",
       "      <th>54</th>\n",
       "      <td>6</td>\n",
       "      <td>2019-02-28 23:30:52.471</td>\n",
       "      <td>2019-02-28 23:37:33.955</td>\n",
       "      <td>Market St at 10th St</td>\n",
       "      <td>Victoria Manalo Draves Park</td>\n",
       "      <td>5407</td>\n",
       "      <td>Subscriber</td>\n",
       "      <td>31</td>\n",
       "      <td>Female</td>\n",
       "      <td>No</td>\n",
       "      <td>Thu</td>\n",
       "      <td>23</td>\n",
       "      <td>23</td>\n",
       "    </tr>\n",
       "    <tr>\n",
       "      <th>55</th>\n",
       "      <td>57</td>\n",
       "      <td>2019-02-28 22:39:35.020</td>\n",
       "      <td>2019-02-28 23:37:33.342</td>\n",
       "      <td>Davis St at Jackson St</td>\n",
       "      <td>Davis St at Jackson St</td>\n",
       "      <td>1846</td>\n",
       "      <td>Subscriber</td>\n",
       "      <td>26</td>\n",
       "      <td>Male</td>\n",
       "      <td>No</td>\n",
       "      <td>Thu</td>\n",
       "      <td>22</td>\n",
       "      <td>23</td>\n",
       "    </tr>\n",
       "  </tbody>\n",
       "</table>\n",
       "</div>"
      ],
      "text/plain": [
       "    duration_min              start_time                end_time  \\\n",
       "0            869 2019-02-28 17:32:10.145 2019-03-01 08:01:55.975   \n",
       "2           1030 2019-02-28 12:13:13.218 2019-03-01 05:24:08.146   \n",
       "4             26 2019-02-28 23:54:18.549 2019-03-01 00:20:44.074   \n",
       "5             29 2019-02-28 23:49:58.632 2019-03-01 00:19:51.760   \n",
       "6             19 2019-02-28 23:55:35.104 2019-03-01 00:14:42.588   \n",
       "7             26 2019-02-28 23:41:06.766 2019-03-01 00:08:02.756   \n",
       "9             17 2019-02-28 23:49:47.699 2019-03-01 00:07:17.025   \n",
       "10             7 2019-02-28 23:57:57.211 2019-03-01 00:05:35.435   \n",
       "11             8 2019-02-28 23:56:55.540 2019-03-01 00:05:21.733   \n",
       "12            19 2019-02-28 23:45:12.651 2019-03-01 00:04:49.184   \n",
       "14             6 2019-02-28 23:56:26.848 2019-03-01 00:03:01.947   \n",
       "15             3 2019-02-28 23:59:18.548 2019-03-01 00:02:47.228   \n",
       "16             9 2019-02-28 23:50:41.607 2019-02-28 23:59:49.953   \n",
       "17            11 2019-02-28 23:48:25.095 2019-02-28 23:59:40.092   \n",
       "18             9 2019-02-28 23:49:01.851 2019-02-28 23:58:19.809   \n",
       "19            14 2019-02-28 23:43:05.183 2019-02-28 23:57:39.796   \n",
       "20             6 2019-02-28 23:50:38.239 2019-02-28 23:57:35.852   \n",
       "21             6 2019-02-28 23:50:26.879 2019-02-28 23:57:21.130   \n",
       "22            12 2019-02-28 23:44:56.439 2019-02-28 23:57:20.212   \n",
       "23             6 2019-02-28 23:51:06.014 2019-02-28 23:57:13.312   \n",
       "24             4 2019-02-28 23:52:51.164 2019-02-28 23:57:03.976   \n",
       "25             6 2019-02-28 23:50:31.431 2019-02-28 23:56:31.891   \n",
       "26             6 2019-02-28 23:49:24.399 2019-02-28 23:55:50.284   \n",
       "27             6 2019-02-28 23:48:08.282 2019-02-28 23:54:56.930   \n",
       "29            10 2019-02-28 23:43:48.658 2019-02-28 23:54:18.254   \n",
       "30             2 2019-02-28 23:50:45.698 2019-02-28 23:53:29.569   \n",
       "31             3 2019-02-28 23:49:27.027 2019-02-28 23:53:10.535   \n",
       "32             6 2019-02-28 23:45:39.234 2019-02-28 23:52:24.850   \n",
       "33            10 2019-02-28 23:40:32.273 2019-02-28 23:51:10.639   \n",
       "34             7 2019-02-28 23:42:43.361 2019-02-28 23:50:34.446   \n",
       "35             5 2019-02-28 23:45:10.555 2019-02-28 23:50:28.905   \n",
       "36             2 2019-02-28 23:47:02.953 2019-02-28 23:49:31.141   \n",
       "37             5 2019-02-28 23:44:12.676 2019-02-28 23:49:17.700   \n",
       "38            17 2019-02-28 23:31:16.139 2019-02-28 23:49:02.792   \n",
       "39            12 2019-02-28 23:35:45.442 2019-02-28 23:48:03.157   \n",
       "40             5 2019-02-28 23:42:13.910 2019-02-28 23:47:42.543   \n",
       "41             5 2019-02-28 23:40:56.075 2019-02-28 23:46:42.483   \n",
       "42            25 2019-02-28 23:20:24.089 2019-02-28 23:46:19.019   \n",
       "43             1 2019-02-28 23:44:00.988 2019-02-28 23:45:57.482   \n",
       "44            12 2019-02-28 23:32:59.464 2019-02-28 23:45:26.953   \n",
       "45            11 2019-02-28 23:33:21.095 2019-02-28 23:45:18.510   \n",
       "46             2 2019-02-28 23:41:35.898 2019-02-28 23:44:12.950   \n",
       "47             6 2019-02-28 23:36:35.579 2019-02-28 23:43:33.027   \n",
       "48             4 2019-02-28 23:38:32.514 2019-02-28 23:43:20.467   \n",
       "49             3 2019-02-28 23:37:29.833 2019-02-28 23:40:52.870   \n",
       "50            24 2019-02-28 23:15:30.509 2019-02-28 23:39:32.503   \n",
       "51             8 2019-02-28 23:30:37.941 2019-02-28 23:39:30.206   \n",
       "52            11 2019-02-28 23:27:21.162 2019-02-28 23:39:18.916   \n",
       "54             6 2019-02-28 23:30:52.471 2019-02-28 23:37:33.955   \n",
       "55            57 2019-02-28 22:39:35.020 2019-02-28 23:37:33.342   \n",
       "\n",
       "                                   start_station_name  \\\n",
       "0    Montgomery St BART Station (Market St at 2nd St)   \n",
       "2                             Market St at Dolores St   \n",
       "4                                 Frank H Ogawa Plaza   \n",
       "5                        4th St at Mission Bay Blvd S   \n",
       "6                                Palm St at Willow St   \n",
       "7                          Washington St at Kearny St   \n",
       "9                                Post St at Kearny St   \n",
       "10                                Jones St at Post St   \n",
       "11  Civic Center/UN Plaza BART Station (Market St ...   \n",
       "12                             Valencia St at 21st St   \n",
       "14                        Bancroft Way at College Ave   \n",
       "15                               Howard St at Mary St   \n",
       "16                              22nd St at Dolores St   \n",
       "17                              Laguna St at Hayes St   \n",
       "18                                   5th St at Folsom   \n",
       "19                           Telegraph Ave at 23rd St   \n",
       "20                                Page St at Scott St   \n",
       "21                          Lake Merritt BART Station   \n",
       "22                                Jones St at Post St   \n",
       "23                        Bancroft Way at College Ave   \n",
       "24                                 West St at 40th St   \n",
       "25                          Lake Merritt BART Station   \n",
       "26                      The Embarcadero at Sansome St   \n",
       "27                                Folsom St at 9th St   \n",
       "29                        University Ave at Oxford St   \n",
       "30                       MLK Jr Way at University Ave   \n",
       "31                       The Embarcadero at Bryant St   \n",
       "32                             17th St at Valencia St   \n",
       "33                             Valencia St at 16th St   \n",
       "34                             Valencia St at 22nd St   \n",
       "35                                    Franklin Square   \n",
       "36                        San Pablo Ave at MLK Jr Way   \n",
       "37                              19th St at Mission St   \n",
       "38                               Market St at 10th St   \n",
       "39                               Folsom St at 13th St   \n",
       "40                                Frank H Ogawa Plaza   \n",
       "41                         Washington St at Kearny St   \n",
       "42  San Francisco Ferry Building (Harry Bridges Pl...   \n",
       "43                                  4th St at 16th St   \n",
       "44                            Beale St at Harrison St   \n",
       "45                             Broadway at Battery St   \n",
       "46                      Cesar Chavez St at Dolores St   \n",
       "47                          San Fernando St at 4th St   \n",
       "48                             Grove St at Divisadero   \n",
       "49                              Sanchez St at 17th St   \n",
       "50                            Harmon St at Adeline St   \n",
       "51                       The Embarcadero at Bryant St   \n",
       "52                                 Mission Playground   \n",
       "54                               Market St at 10th St   \n",
       "55                             Davis St at Jackson St   \n",
       "\n",
       "                                     end_station_name  bike_id   user_type  \\\n",
       "0                      Commercial St at Montgomery St     4902    Customer   \n",
       "2        Powell St BART Station (Market St at 4th St)     5905    Customer   \n",
       "4                               10th Ave at E 15th St     4898  Subscriber   \n",
       "5                                  Broadway at Kearny     5200  Subscriber   \n",
       "6                            San Jose Diridon Station     3803  Subscriber   \n",
       "7                              Valencia St at 21st St     6329  Subscriber   \n",
       "9                                  Mission Playground     6488  Subscriber   \n",
       "10  San Francisco Public Library (Grove St at Hyde...     5318  Subscriber   \n",
       "11                                Bryant St at 2nd St     5848  Subscriber   \n",
       "12                                 Broadway at Kearny     5328    Customer   \n",
       "14                       Channing Way at Shattuck Ave     4786  Subscriber   \n",
       "15                               8th St at Ringold St     6361  Subscriber   \n",
       "16                             Broderick St at Oak St     6572  Subscriber   \n",
       "17                        Potrero Ave and Mariposa St     5343  Subscriber   \n",
       "18                           Market St at Franklin St     5854  Subscriber   \n",
       "19                           Telegraph Ave at 23rd St     5629    Customer   \n",
       "20                              17th St at Dolores St     4999  Subscriber   \n",
       "21          6th Ave at E 12th St (Temporary Location)     6007  Subscriber   \n",
       "22                          McAllister St at Baker St     5479  Subscriber   \n",
       "23                       Telegraph Ave at Carleton St     1804  Subscriber   \n",
       "24                                Genoa St at 55th St     5678  Subscriber   \n",
       "25                            Grand Ave at Perkins St     6240  Subscriber   \n",
       "26  San Francisco Ferry Building (Harry Bridges Pl...     6531    Customer   \n",
       "27                                Folsom St at 9th St     5410  Subscriber   \n",
       "29                      Channing Way at San Pablo Ave      363  Subscriber   \n",
       "30                         Shattuck Ave at Hearst Ave     5669  Subscriber   \n",
       "31                              2nd St at Townsend St     6267    Customer   \n",
       "32                             Pierce St at Haight St     5130  Subscriber   \n",
       "33          Potrero del Sol Park (25th St at Utah St)     6435  Subscriber   \n",
       "34                             Valencia St at 22nd St     5559  Subscriber   \n",
       "35                                 Jackson Playground       99  Subscriber   \n",
       "36                           Telegraph Ave at 23rd St     4864  Subscriber   \n",
       "37                              Dolores St at 15th St     6264  Subscriber   \n",
       "38                               29th St at Church St     5938  Subscriber   \n",
       "39                              19th St at Mission St     6456    Customer   \n",
       "40                                Bay Pl at Vernon St     5154  Subscriber   \n",
       "41                               Post St at Kearny St     6488  Subscriber   \n",
       "42  Yerba Buena Center for the Arts (Howard St at ...     5411  Subscriber   \n",
       "43                       4th St at Mission Bay Blvd S      823  Subscriber   \n",
       "44                     Father Alfred E Boeddeker Park     6521  Subscriber   \n",
       "45                               Market St at 10th St     6581  Subscriber   \n",
       "46                          24th St at Chattanooga St     4571  Subscriber   \n",
       "47                            Pierce Ave at Market St     1501  Subscriber   \n",
       "48                              Fell St at Stanyan St     4958  Subscriber   \n",
       "49                             17th St at Valencia St     6355  Subscriber   \n",
       "50                           San Pablo Ave at 27th St     3159  Subscriber   \n",
       "51                               Howard St at Mary St     6361    Customer   \n",
       "52                             Central Ave at Fell St     4449  Subscriber   \n",
       "54                        Victoria Manalo Draves Park     5407  Subscriber   \n",
       "55                             Davis St at Jackson St     1846  Subscriber   \n",
       "\n",
       "    member_age member_gender bike_share_for_all_trip start_day start_hour  \\\n",
       "0           37          Male                      No       Thu         17   \n",
       "2           49          Male                      No       Thu         12   \n",
       "4           47          Male                     Yes       Thu         23   \n",
       "5           62          Male                      No       Thu         23   \n",
       "6           38        Female                      No       Thu         23   \n",
       "7           32          Male                      No       Thu         23   \n",
       "9           29          Male                      No       Thu         23   \n",
       "10          25        Female                     Yes       Thu         23   \n",
       "11          28          Male                      No       Thu         23   \n",
       "12          31          Male                      No       Thu         23   \n",
       "14          33          Male                      No       Thu         23   \n",
       "15          28          Male                     Yes       Thu         23   \n",
       "16          40          Male                      No       Thu         23   \n",
       "17          46          Male                      No       Thu         23   \n",
       "18          31          Male                      No       Thu         23   \n",
       "19          43          Male                      No       Thu         23   \n",
       "20          38          Male                      No       Thu         23   \n",
       "21          37          Male                     Yes       Thu         23   \n",
       "22          30        Female                      No       Thu         23   \n",
       "23          24        Female                      No       Thu         23   \n",
       "24          46          Male                      No       Thu         23   \n",
       "25          35          Male                      No       Thu         23   \n",
       "26          21          Male                      No       Thu         23   \n",
       "27          39          Male                      No       Thu         23   \n",
       "29          26          Male                      No       Thu         23   \n",
       "30          25          Male                     Yes       Thu         23   \n",
       "31          28          Male                      No       Thu         23   \n",
       "32          41        Female                      No       Thu         23   \n",
       "33          48          Male                      No       Thu         23   \n",
       "34          29          Male                      No       Thu         23   \n",
       "35          36        Female                      No       Thu         23   \n",
       "36          38          Male                      No       Thu         23   \n",
       "37          37        Female                      No       Thu         23   \n",
       "38          29        Female                      No       Thu         23   \n",
       "39          29        Female                      No       Thu         23   \n",
       "40          50          Male                      No       Thu         23   \n",
       "41          29          Male                      No       Thu         23   \n",
       "42          49          Male                      No       Thu         23   \n",
       "43          62          Male                      No       Thu         23   \n",
       "44          26          Male                      No       Thu         23   \n",
       "45          41          Male                      No       Thu         23   \n",
       "46          40          Male                      No       Thu         23   \n",
       "47          28          Male                     Yes       Thu         23   \n",
       "48          32          Male                      No       Thu         23   \n",
       "49          42          Male                      No       Thu         23   \n",
       "50          47        Female                     Yes       Thu         23   \n",
       "51          37          Male                      No       Thu         23   \n",
       "52          29          Male                      No       Thu         23   \n",
       "54          31        Female                      No       Thu         23   \n",
       "55          26          Male                      No       Thu         22   \n",
       "\n",
       "   end_hour  \n",
       "0        08  \n",
       "2        05  \n",
       "4        00  \n",
       "5        00  \n",
       "6        00  \n",
       "7        00  \n",
       "9        00  \n",
       "10       00  \n",
       "11       00  \n",
       "12       00  \n",
       "14       00  \n",
       "15       00  \n",
       "16       23  \n",
       "17       23  \n",
       "18       23  \n",
       "19       23  \n",
       "20       23  \n",
       "21       23  \n",
       "22       23  \n",
       "23       23  \n",
       "24       23  \n",
       "25       23  \n",
       "26       23  \n",
       "27       23  \n",
       "29       23  \n",
       "30       23  \n",
       "31       23  \n",
       "32       23  \n",
       "33       23  \n",
       "34       23  \n",
       "35       23  \n",
       "36       23  \n",
       "37       23  \n",
       "38       23  \n",
       "39       23  \n",
       "40       23  \n",
       "41       23  \n",
       "42       23  \n",
       "43       23  \n",
       "44       23  \n",
       "45       23  \n",
       "46       23  \n",
       "47       23  \n",
       "48       23  \n",
       "49       23  \n",
       "50       23  \n",
       "51       23  \n",
       "52       23  \n",
       "54       23  \n",
       "55       23  "
      ]
     },
     "execution_count": 35,
     "metadata": {},
     "output_type": "execute_result"
    }
   ],
   "source": [
    "df.head(50)"
   ]
  },
  {
   "cell_type": "code",
   "execution_count": 36,
   "metadata": {
    "scrolled": true
   },
   "outputs": [
    {
     "name": "stdout",
     "output_type": "stream",
     "text": [
      "<class 'pandas.core.frame.DataFrame'>\n",
      "Int64Index: 171305 entries, 0 to 183411\n",
      "Data columns (total 13 columns):\n",
      " #   Column                   Non-Null Count   Dtype         \n",
      "---  ------                   --------------   -----         \n",
      " 0   duration_min             171305 non-null  int64         \n",
      " 1   start_time               171305 non-null  datetime64[ns]\n",
      " 2   end_time                 171305 non-null  datetime64[ns]\n",
      " 3   start_station_name       171305 non-null  object        \n",
      " 4   end_station_name         171305 non-null  object        \n",
      " 5   bike_id                  171305 non-null  int64         \n",
      " 6   user_type                171305 non-null  object        \n",
      " 7   member_age               171305 non-null  int64         \n",
      " 8   member_gender            171305 non-null  object        \n",
      " 9   bike_share_for_all_trip  171305 non-null  object        \n",
      " 10  start_day                171305 non-null  object        \n",
      " 11  start_hour               171305 non-null  object        \n",
      " 12  end_hour                 171305 non-null  object        \n",
      "dtypes: datetime64[ns](2), int64(3), object(8)\n",
      "memory usage: 18.3+ MB\n"
     ]
    }
   ],
   "source": [
    "df.info()"
   ]
  },
  {
   "cell_type": "code",
   "execution_count": 37,
   "metadata": {},
   "outputs": [
    {
     "data": {
      "text/plain": [
       "(171305, 13)"
      ]
     },
     "execution_count": 37,
     "metadata": {},
     "output_type": "execute_result"
    }
   ],
   "source": [
    "df.shape"
   ]
  },
  {
   "cell_type": "markdown",
   "metadata": {},
   "source": [
    "### What is the structure of your dataset?\n",
    "\n",
    "> There are 171305 rows in the dataset with 13 feature (duration_min,start_time,end_time,start_station_name,end_station_name,\tbike_id,user_type,member_age,member_gender,bike_share_for_all_trip,start_day,start_hour,end_hour )\n",
    "\n",
    "\n",
    "\n",
    "### What is/are the main feature(s) of interest in your dataset?\n",
    "\n",
    "> In this dataset that contain 13 featuer there is some feature we need to foucs on it like duration of trip ,  user_type , start_hour , member_gender ,member_age ,start_day\n",
    "\n",
    "### What features in the dataset do you think will help support your investigation into your feature(s) of interest?\n",
    "\n",
    ">user type , member_birth_year , end_time , start_time ,duration_min ,start_hour,end_hour ,start_day\n"
   ]
  },
  {
   "cell_type": "markdown",
   "metadata": {},
   "source": [
    "## Univariate Exploration\n",
    "\n",
    "> In this section, investigate distributions of individual variables. If\n",
    "you see unusual points or outliers, take a deeper look to clean things up\n",
    "and prepare yourself to look at relationships between variables."
   ]
  },
  {
   "cell_type": "code",
   "execution_count": 133,
   "metadata": {},
   "outputs": [
    {
     "data": {
      "image/png": "[encoded data removed]",
      "text/plain": [
       "<Figure size 432x288 with 1 Axes>"
      ]
     },
     "metadata": {
      "needs_background": "light"
     },
     "output_type": "display_data"
    }
   ],
   "source": [
    "#count of the day to using the bike\n",
    "sb.countplot(data=df, x='start_day',order = ['Sun', 'Mon', 'Tue', 'Wed', 'Thu', 'Fri', 'Sat']);\n",
    "plt.title(\"count of the days\");\n"
   ]
  },
  {
   "cell_type": "markdown",
   "metadata": {},
   "source": [
    "Observation:The most days to use the bike on Thursday and Friday"
   ]
  },
  {
   "cell_type": "code",
   "execution_count": 129,
   "metadata": {},
   "outputs": [],
   "source": [
    "#function \n",
    "def plotFun(plt, title, xLabel, yLabel):\n",
    "    plt.title(title)\n",
    "    plt.xlabel(xLabel)\n",
    "    plt.ylabel(yLabel)"
   ]
  },
  {
   "cell_type": "code",
   "execution_count": 130,
   "metadata": {},
   "outputs": [
    {
     "data": {
      "image/png": "[encoded data removed]",
      "text/plain": [
       "<Figure size 432x288 with 1 Axes>"
      ]
     },
     "metadata": {},
     "output_type": "display_data"
    }
   ],
   "source": [
    "#sort the counts of the gender values from largest to smallest\n",
    "\n",
    "sorted_counts = df['member_gender'].value_counts()\n",
    "plt.pie(sorted_counts, labels = sorted_counts.index, startangle = 90,autopct='%.2f%%', counterclock = False);\n",
    "plotFun(plt,'count of mamber gender','ages','frequency')"
   ]
  },
  {
   "cell_type": "markdown",
   "metadata": {},
   "source": [
    "Observation: Most bike users are 76.18% male."
   ]
  },
  {
   "cell_type": "code",
   "execution_count": 134,
   "metadata": {},
   "outputs": [
    {
     "data": {
      "image/png": "[encoded data removed]",
      "text/plain": [
       "<Figure size 432x288 with 1 Axes>"
      ]
     },
     "metadata": {
      "needs_background": "light"
     },
     "output_type": "display_data"
    }
   ],
   "source": [
    "#users age\n",
    "plt.hist(data = df, x = 'member_age',bins =30,color='purple');\n",
    "plotFun(plt,'Count of mamber age','Member Age','Count');"
   ]
  },
  {
   "cell_type": "markdown",
   "metadata": {},
   "source": [
    "Observation: Most bike users are between 25 and 35 years old"
   ]
  },
  {
   "cell_type": "markdown",
   "metadata": {},
   "source": [
    "### Discuss the distribution(s) of your variable(s) of interest. Were there any unusual points? Did you need to perform any transformations?\n",
    "\n",
    "- Age distribution: Most of the users ranged in age from 25 to 35\n",
    "- As for the gender distribution, the rate of males was much higher than females\n",
    "- The distribution of days during the use of the bike was uneven, but the largest percentage is on Thursday and Friday\n",
    "There was no need to transformations , except to convert the duration from seconds to minutes, and this was in the cleaning\n",
    "\n",
    "\n",
    "### Of the features you investigated, were there any unusual distributions? Did you perform any operations on the data to tidy, adjust, or change the form of the data? If so, why did you do this?\n",
    "\n",
    "> I cleaned up the datasets and their features in order to get better visualizations, extracted some columns, deleted some and changed the duration from seconds to minutes."
   ]
  },
  {
   "cell_type": "markdown",
   "metadata": {},
   "source": [
    "## Bivariate Exploration\n",
    "\n",
    "> In this section, investigate relationships between pairs of variables in your\n",
    "data. Make sure the variables that you cover here have been introduced in some\n",
    "fashion in the previous section (univariate exploration)."
   ]
  },
  {
   "cell_type": "code",
   "execution_count": 137,
   "metadata": {},
   "outputs": [
    {
     "data": {
      "image/png": "[encoded data removed]",
      "text/plain": [
       "<Figure size 432x288 with 1 Axes>"
      ]
     },
     "metadata": {
      "needs_background": "light"
     },
     "output_type": "display_data"
    }
   ],
   "source": [
    "#Relationship between members age and the duration \n",
    "sb.regplot(data = df, x = 'duration_min', y = 'member_age' , color='green');\n",
    "plotFun(plt,'correlation between members age and the duration','duration in minutes','Member age');"
   ]
  },
  {
   "cell_type": "markdown",
   "metadata": {},
   "source": [
    "observation: The ages are between 20 to 55 at the time of their use much more than the older ones"
   ]
  },
  {
   "cell_type": "code",
   "execution_count": 148,
   "metadata": {},
   "outputs": [
    {
     "data": {
      "image/png": "[encoded data removed]",
      "text/plain": [
       "<Figure size 432x288 with 1 Axes>"
      ]
     },
     "metadata": {
      "needs_background": "light"
     },
     "output_type": "display_data"
    }
   ],
   "source": [
    "#Relationship between duration and the day of the week\n",
    "sb.barplot(data = df, x = 'start_day', y = 'duration_min', order = ['Sun', 'Mon', 'Tue', 'Wed', 'Thu', 'Fri', 'Sat'] );\n",
    "plotFun(plt,'Relationship between duration and the day of the week','day','duration in minutes')"
   ]
  },
  {
   "cell_type": "markdown",
   "metadata": {},
   "source": [
    "Observation: On Saturday and Sunday, the duration of use is more than the rest of the week"
   ]
  },
  {
   "cell_type": "code",
   "execution_count": 150,
   "metadata": {},
   "outputs": [
    {
     "data": {
      "image/png": "[encoded data removed]",
      "text/plain": [
       "<Figure size 432x288 with 1 Axes>"
      ]
     },
     "metadata": {
      "needs_background": "light"
     },
     "output_type": "display_data"
    }
   ],
   "source": [
    "#Relationship between hours and the user type\n",
    "sb.countplot(data = df, x = 'start_hour', hue = 'user_type' , order = ['00','01', '02', '03', '04', '05', '06', '07','08', '09', '10', '11', '12', '13','14', '15', '16', '17', '18', '19', '20', '21', '22', '23' ]);\n",
    "plt.title('Relationship between hours and the user type');\n"
   ]
  },
  {
   "cell_type": "markdown",
   "metadata": {},
   "source": [
    "The hours of use of subscribers are much greater than the hours of use of customers, and also the most hours in which the use increases are at 8 am and 17 pm."
   ]
  },
  {
   "cell_type": "markdown",
   "metadata": {},
   "source": [
    "### Talk about some of the relationships you observed in this part of the investigation. How did the feature(s) of interest vary with other features in the dataset?\n",
    "\n",
    ">The ages are between 20 to 55 at the time of their use much more than the older ones and on Saturday and Sunday, the duration of use is more than the rest of the week and also\n",
    "The hours of use of subscribers are much greater than the hours of use of customers, and also the most hours in which the use increases are at 8 am and 17 pm because of the work time.\n",
    "\n",
    "### Did you observe any interesting relationships between the other features (not the main feature(s) of interest)?\n",
    "\n",
    "> Over the week, subscribers and costumers used bikes most on Sundays and Saturdays."
   ]
  },
  {
   "cell_type": "markdown",
   "metadata": {},
   "source": [
    "## Multivariate Exploration\n",
    "\n",
    "> Create plots of three or more variables to investigate your data even\n",
    "further. Make sure that your investigations are justified, and follow from\n",
    "your work in the previous sections."
   ]
  },
  {
   "cell_type": "code",
   "execution_count": 85,
   "metadata": {
    "scrolled": true
   },
   "outputs": [
    {
     "data": {
      "text/plain": [
       "<AxesSubplot:>"
      ]
     },
     "execution_count": 85,
     "metadata": {},
     "output_type": "execute_result"
    },
    {
     "data": {
      "image/png": "[encoded data removed]",
      "text/plain": [
       "<Figure size 432x288 with 2 Axes>"
      ]
     },
     "metadata": {
      "needs_background": "light"
     },
     "output_type": "display_data"
    }
   ],
   "source": [
    "sb.heatmap(df.corr(), annot = True, fmt = '.2f', cmap = 'vlag_r', center = 0)\n"
   ]
  },
  {
   "cell_type": "markdown",
   "metadata": {},
   "source": [
    "Here, as we can see, all the numbers are far from 1, so there is no Correlation between these three features"
   ]
  },
  {
   "cell_type": "code",
   "execution_count": 143,
   "metadata": {},
   "outputs": [
    {
     "data": {
      "image/png": "[encoded data removed]",
      "text/plain": [
       "<Figure size 432x288 with 1 Axes>"
      ]
     },
     "metadata": {
      "needs_background": "light"
     },
     "output_type": "display_data"
    }
   ],
   "source": [
    "#Relationship between duration and the day of the week and customer type\n",
    "sb.pointplot(data=df, x='start_day', y='duration_min', hue='user_type',order = ['Sun', 'Mon', 'Tue', 'Wed', 'Thu', 'Fri', 'Sat']);\n",
    "plotFun(plt,'Relationship between duration and the day of the week and customer type','day','duration in minutes')"
   ]
  },
  {
   "cell_type": "markdown",
   "metadata": {},
   "source": [
    "In the above plot, subscribers ride significantly shorter trips than customers every day of the week. \n",
    "The trip duration of customers and subscribers over weekends is significantly longer on Saturdays and Sundays."
   ]
  },
  {
   "cell_type": "markdown",
   "metadata": {},
   "source": [
    "### Talk about some of the relationships you observed in this part of the investigation. Were there features that strengthened each other in terms of looking at your feature(s) of interest?\n",
    "\n",
    "> During the exploration, clear relationships and patterns emerged, such as that the time buyers use the bike is almost fixed, and the working hours are usually and the most hours of use are 8 and 17, which is the time for going and returning from work, while the customers have different distribution of time and the duration of their use is much more than the subscribers.\n",
    "\n",
    "### Were there any interesting or surprising interactions between features?\n",
    "\n",
    "> Almost every relationship made sense and was unsurprising"
   ]
  },
  {
   "cell_type": "markdown",
   "metadata": {},
   "source": [
    "> At the end of your report, make sure that you export the notebook as an\n",
    "html file from the `File > Download as... > HTML` menu. Make sure you keep\n",
    "track of where the exported file goes, so you can put it in the same folder\n",
    "as this notebook for project submission. Also, make sure you remove all of\n",
    "the quote-formatted guide notes like this one before you finish your report!"
   ]
  },
  {
   "cell_type": "code",
   "execution_count": 96,
   "metadata": {},
   "outputs": [],
   "source": [
    "df.to_csv('Master-fordgobike-tripdata.csv', index=False)"
   ]
  },
  {
   "cell_type": "code",
   "execution_count": null,
   "metadata": {},
   "outputs": [],
   "source": []
  }
 ],
 "metadata": {
  "kernelspec": {
   "display_name": "Python 3",
   "language": "python",
   "name": "python3"
  },
  "language_info": {
   "codemirror_mode": {
    "name": "ipython",
    "version": 3
   },
   "file_extension": ".py",
   "mimetype": "text/x-python",
   "name": "python",
   "nbconvert_exporter": "python",
   "pygments_lexer": "ipython3",
   "version": "3.8.10"
  }
 },
 "nbformat": 4,
 "nbformat_minor": 2
}
